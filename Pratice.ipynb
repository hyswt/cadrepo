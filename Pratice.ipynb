{
 "cells": [
  {
   "cell_type": "code",
   "execution_count": 17,
   "metadata": {},
   "outputs": [
    {
     "data": {
      "text/plain": [
       "30"
      ]
     },
     "execution_count": 17,
     "metadata": {},
     "output_type": "execute_result"
    }
   ],
   "source": [
    "from bisect import bisect_right, bisect\n",
    "list_1 = [2, 6, 10, 18, 24, 30, 40, 50,\n",
    "              65, 80, 100, 120, 140, 160, 180, 200]\n",
    "int_ = bisect_right(list_1, 25)\n",
    "u6 = list_1[int_]\n",
    "u6"
   ]
  },
  {
   "cell_type": "code",
   "execution_count": 18,
   "metadata": {},
   "outputs": [
    {
     "data": {
      "text/plain": [
       "['specialized', 'redline', 'cannondale', 'trek']"
      ]
     },
     "execution_count": 18,
     "metadata": {},
     "output_type": "execute_result"
    }
   ],
   "source": [
    "bicycles = ['trek', 'cannondale', 'redline', 'specialized']\n",
    "bicycles.reverse()\n",
    "bicycles\n"
   ]
  },
  {
   "cell_type": "code",
   "execution_count": 19,
   "metadata": {},
   "outputs": [
    {
     "name": "stdout",
     "output_type": "stream",
     "text": [
      "alice\n",
      "david\n",
      "carolina\n"
     ]
    }
   ],
   "source": [
    "magicians = ['alice', 'david', 'carolina']\n",
    "for magician in magicians:\n",
    "  print(magician)"
   ]
  },
  {
   "cell_type": "code",
   "execution_count": 20,
   "metadata": {},
   "outputs": [
    {
     "name": "stdout",
     "output_type": "stream",
     "text": [
      "[1]\n",
      "[1, 1048576]\n"
     ]
    }
   ],
   "source": [
    "squares=[]\n",
    "for value in range(1,3):\n",
    "    squares.append(value**20)\n",
    "    print(squares)\n"
   ]
  },
  {
   "cell_type": "code",
   "execution_count": 21,
   "metadata": {},
   "outputs": [
    {
     "name": "stdout",
     "output_type": "stream",
     "text": [
      "0\n"
     ]
    }
   ],
   "source": [
    "digits = [1, 2, 3, 4, 5, 6, 7, 8, 9, 0]\n",
    "print(min(digits))\n"
   ]
  },
  {
   "cell_type": "code",
   "execution_count": 22,
   "metadata": {},
   "outputs": [
    {
     "data": {
      "text/plain": [
       "[1, 4, 9, 16, 25]"
      ]
     },
     "execution_count": 22,
     "metadata": {},
     "output_type": "execute_result"
    }
   ],
   "source": [
    "squares=[value**2 for value in range(1,20)]\n",
    "squares[0:5]"
   ]
  },
  {
   "cell_type": "code",
   "execution_count": 23,
   "metadata": {},
   "outputs": [
    {
     "name": "stdout",
     "output_type": "stream",
     "text": [
      "Charles\n",
      "Martina\n",
      "Michael\n"
     ]
    }
   ],
   "source": [
    "players = ['charles', 'martina', 'michael', 'florence', 'eli']\n",
    "for i in players[0:3]:\n",
    "    print(i.title())"
   ]
  },
  {
   "cell_type": "code",
   "execution_count": 24,
   "metadata": {},
   "outputs": [
    {
     "name": "stdout",
     "output_type": "stream",
     "text": [
      "200\n",
      "50\n"
     ]
    }
   ],
   "source": [
    "dimensions = (200, 50)\n",
    "for dimensions in dimensions:\n",
    "    print(dimensions)"
   ]
  },
  {
   "cell_type": "code",
   "execution_count": 25,
   "metadata": {},
   "outputs": [
    {
     "name": "stdout",
     "output_type": "stream",
     "text": [
      "Audi\n",
      "BMW\n",
      "Subaru\n",
      "Toyota\n"
     ]
    }
   ],
   "source": [
    "cars = ['audi', 'bmw', 'subaru', 'toyota']\n",
    "for car in cars:\n",
    "    if car == 'bmw':\n",
    "        print(car.upper())\n",
    "    else:\n",
    "        print(car.title())\n"
   ]
  },
  {
   "cell_type": "code",
   "execution_count": 26,
   "metadata": {},
   "outputs": [
    {
     "data": {
      "text/plain": [
       "True"
      ]
     },
     "execution_count": 26,
     "metadata": {},
     "output_type": "execute_result"
    }
   ],
   "source": [
    "age_0 = 22\n",
    "age_1 = 18\n",
    "name=(age_0 >= 21 or age_1 >= 21)\n",
    "name"
   ]
  },
  {
   "cell_type": "code",
   "execution_count": 27,
   "metadata": {},
   "outputs": [
    {
     "name": "stdout",
     "output_type": "stream",
     "text": [
      "Adding mushrooms.\n",
      "Sorry, we are out of green peppers right now.\n",
      "Adding extra cheese.\n",
      "\n",
      "Finished making your pizza!\n"
     ]
    }
   ],
   "source": [
    "requested_toppings = ['mushrooms', 'green peppers', 'extra cheese']\n",
    "for requested_topping in requested_toppings:\n",
    "    if requested_topping == 'green peppers':\n",
    "      print(\"Sorry, we are out of green peppers right now.\")\n",
    "    else:\n",
    "      print(\"Adding \" + requested_topping + \".\")\n",
    "print(\"\\nFinished making your pizza!\")"
   ]
  },
  {
   "cell_type": "code",
   "execution_count": 28,
   "metadata": {},
   "outputs": [
    {
     "name": "stdout",
     "output_type": "stream",
     "text": [
      "endwin\n",
      "jen\n",
      "phile\n",
      "sarh\n"
     ]
    }
   ],
   "source": [
    "alien_0 = {'color': 'green', 'points': 5}\n",
    "alien_0['x_position']=0\n",
    "alien_0['y_position']=25\n",
    "alien_0\n",
    "favorite_lan={\n",
    "    'jen':'python',\n",
    "    'sarh':'c',\n",
    "    'endwin':'rubby',\n",
    "    'phile':'python'\n",
    "}\n",
    "for k in sorted(favorite_lan.keys()):\n",
    "    print(k)\n"
   ]
  },
  {
   "cell_type": "code",
   "execution_count": 29,
   "metadata": {},
   "outputs": [
    {
     "name": "stdout",
     "output_type": "stream",
     "text": [
      "{'color': 'green', 'points': 5}\n",
      "{'color': 'yellow', 'points': 10}\n",
      "{'color': 'red', 'points': 15}\n"
     ]
    }
   ],
   "source": [
    "alien_0 = {'color': 'green', 'points': 5}\n",
    "alien_1 = {'color': 'yellow', 'points': 10}\n",
    "alien_2 = {'color': 'red', 'points': 15}\n",
    "aliens=[alien_0,alien_1,alien_2]\n",
    "for alien in aliens:\n",
    "    print(alien)"
   ]
  },
  {
   "cell_type": "code",
   "execution_count": 30,
   "metadata": {},
   "outputs": [
    {
     "name": "stdout",
     "output_type": "stream",
     "text": [
      "{'color': 'yellow', 'points': 10, 'speed': 'medium'}\n",
      "...\n",
      "{'color': 'yellow', 'points': 10, 'speed': 'medium'}\n",
      "...\n",
      "{'color': 'yellow', 'points': 10, 'speed': 'medium'}\n",
      "...\n",
      "{'color': 'green', 'points': 5, 'speed': 'slow'}\n",
      "...\n",
      "{'color': 'green', 'points': 5, 'speed': 'slow'}\n",
      "...\n"
     ]
    }
   ],
   "source": [
    "# 创建一个用于存储外星人的空列表\n",
    "aliens = []\n",
    "# 创建30个绿色的外星人\n",
    "for alien_number in range (0,30):\n",
    "    new_alien = {'color': 'green', 'points': 5, 'speed': 'slow'}\n",
    "    aliens.append(new_alien)\n",
    "for alien in aliens[0:3]:\n",
    "    if alien['color'] == 'green':\n",
    "        alien['color'] = 'yellow'\n",
    "        alien['speed'] = 'medium'\n",
    "        alien['points'] = 10\n",
    "# 显示前五个外星人\n",
    "for alien in aliens[0:5]:\n",
    "    print(alien)\n",
    "    print(\"...\")"
   ]
  },
  {
   "cell_type": "code",
   "execution_count": 31,
   "metadata": {},
   "outputs": [
    {
     "name": "stdout",
     "output_type": "stream",
     "text": [
      "\n",
      "Username: aeinstein\n",
      "\tFull name: Albert Einstein\n",
      "\tLocation: Princeton\n",
      "\n",
      "Username: mcurie\n",
      "\tFull name: Marie Curie\n",
      "\tLocation: Paris\n"
     ]
    }
   ],
   "source": [
    "users = {\n",
    "'aeinstein': {\n",
    "'first': 'albert',\n",
    "'last': 'einstein',\n",
    "'location': 'princeton',\n",
    "},\n",
    "'mcurie': {\n",
    "'first': 'marie',\n",
    "'last': 'curie',\n",
    "'location': 'paris',\n",
    "},\n",
    "}\n",
    "for username, user_info in users.items():\n",
    "    print(\"\\nUsername: \" + username)\n",
    "    full_name = user_info['first'] + \" \" + user_info['last']\n",
    "    location = user_info['location']\n",
    "    print(\"\\tFull name: \" + full_name.title())\n",
    "    print(\"\\tLocation: \" + location.title())"
   ]
  },
  {
   "cell_type": "code",
   "execution_count": 32,
   "metadata": {},
   "outputs": [
    {
     "ename": "ValueError",
     "evalue": "invalid literal for int() with base 10: ''",
     "output_type": "error",
     "traceback": [
      "\u001b[1;31m---------------------------------------------------------------------------\u001b[0m",
      "\u001b[1;31mValueError\u001b[0m                                Traceback (most recent call last)",
      "Cell \u001b[1;32mIn[32], line 2\u001b[0m\n\u001b[0;32m      1\u001b[0m height \u001b[39m=\u001b[39m \u001b[39minput\u001b[39m(\u001b[39m\"\u001b[39m\u001b[39mHow tall are you, in inches? \u001b[39m\u001b[39m\"\u001b[39m)\n\u001b[1;32m----> 2\u001b[0m height \u001b[39m=\u001b[39m \u001b[39mint\u001b[39;49m(height)\n\u001b[0;32m      3\u001b[0m \u001b[39mif\u001b[39;00m height \u001b[39m>\u001b[39m\u001b[39m=\u001b[39m \u001b[39m36\u001b[39m:\n\u001b[0;32m      4\u001b[0m     \u001b[39mprint\u001b[39m(\u001b[39m\"\u001b[39m\u001b[39m\\n\u001b[39;00m\u001b[39mYou\u001b[39m\u001b[39m'\u001b[39m\u001b[39mre tall enough to ride!\u001b[39m\u001b[39m\"\u001b[39m)\n",
      "\u001b[1;31mValueError\u001b[0m: invalid literal for int() with base 10: ''"
     ]
    }
   ],
   "source": [
    "height = input(\"How tall are you, in inches? \")\n",
    "height = int(height)\n",
    "if height >= 36:\n",
    "    print(\"\\nYou're tall enough to ride!\")\n",
    "else:\n",
    "    print(\"\\nYou'll be able to ride when you're a little older.\")"
   ]
  },
  {
   "cell_type": "code",
   "execution_count": null,
   "metadata": {},
   "outputs": [
    {
     "name": "stdout",
     "output_type": "stream",
     "text": [
      "['dog', 'cat', 'dog', 'goldfish', 'cat', 'rabbit', 'cat']\n",
      "['dog', 'dog', 'goldfish', 'rabbit']\n"
     ]
    }
   ],
   "source": [
    "pets = ['dog', 'cat', 'dog', 'goldfish', 'cat', 'rabbit', 'cat']\n",
    "print(pets)\n",
    "while 'cat' in pets:\n",
    "    pets.remove('cat')\n",
    "print(pets)"
   ]
  },
  {
   "cell_type": "code",
   "execution_count": null,
   "metadata": {},
   "outputs": [
    {
     "name": "stdout",
     "output_type": "stream",
     "text": [
      "John Lee Hooker\n"
     ]
    }
   ],
   "source": [
    "def get_formatted_name(first_name, middle_name, last_name):\n",
    "    \"\"\"返回整洁的姓名\n",
    "    Paramets:\n",
    "    first_name:输入姓,\n",
    "    middle_name:中间名,\n",
    "    last_name:名\n",
    "    \"\"\"\n",
    "    full_name = first_name + ' ' + middle_name + ' ' + last_name\n",
    "    return full_name.title()\n",
    "musician = get_formatted_name('john', 'lee', 'hooker')\n",
    "print(musician)"
   ]
  },
  {
   "cell_type": "code",
   "execution_count": null,
   "metadata": {},
   "outputs": [
    {
     "name": "stdout",
     "output_type": "stream",
     "text": [
      "{'first': 'jimi', 'last': 'hendrix'}\n"
     ]
    }
   ],
   "source": [
    "def build_person(first_name, last_name):\n",
    "    \"\"\"返回一个字典，其中包含有关一个人的信息\"\"\"\n",
    "    person = {'first': first_name, 'last': last_name}\n",
    "    return person\n",
    "musician = build_person('jimi', 'hendrix')\n",
    "print(musician)"
   ]
  },
  {
   "cell_type": "code",
   "execution_count": null,
   "metadata": {},
   "outputs": [],
   "source": [
    "def make_pizza(*toppings,**toppingx):\n",
    "    \"\"\"打印顾客点的所有配料\"\"\"\n",
    "    # print(toppingx)\n",
    "    return toppingx\n"
   ]
  },
  {
   "cell_type": "code",
   "execution_count": null,
   "metadata": {},
   "outputs": [
    {
     "name": "stdout",
     "output_type": "stream",
     "text": [
      "{'name': 12, 'age': 13, 'first': 'hys', 'last': 'ys'}\n"
     ]
    },
    {
     "data": {
      "text/plain": [
       "dict_values([12, 13, 'hys', 'ys'])"
      ]
     },
     "execution_count": 29,
     "metadata": {},
     "output_type": "execute_result"
    }
   ],
   "source": [
    "dict_=make_pizza(name=12,age=13,first='hys',last='ys')\n",
    "print(dict_)\n",
    "\n",
    "dict_.values()\n",
    "\n",
    "\n"
   ]
  },
  {
   "cell_type": "code",
   "execution_count": null,
   "metadata": {},
   "outputs": [
    {
     "name": "stdout",
     "output_type": "stream",
     "text": [
      "Xiaohuangis now sitting\n",
      "25\n",
      "Xiaohuang is now rolling\n"
     ]
    }
   ],
   "source": [
    "class Dog():\n",
    "    def __init__(self,name,age) -> None:\n",
    "        self.name=name\n",
    "        self.age=age\n",
    "    def sit_and_sayage(self):\n",
    "        print(self.name.title() + \"is now sitting\")\n",
    "        print(self.age)\n",
    "    def roll_over(self):\n",
    "        print(self.name.title() + \" is now rolling\")\n",
    "dog=Dog('xiaohuang',25)\n",
    "dog.sit_and_sayage()\n",
    "dog.roll_over()"
   ]
  },
  {
   "cell_type": "code",
   "execution_count": null,
   "metadata": {},
   "outputs": [
    {
     "name": "stdout",
     "output_type": "stream",
     "text": [
      "this  car has a 250-kWH battery\n",
      "2006 Telsa Model Y3 \n",
      "this  car has a 250-kWH battery\n",
      "None\n",
      "this car can go approximately 270miles on a full charge\n",
      "None\n"
     ]
    }
   ],
   "source": [
    "class Car():\n",
    "    def __init__(self,make,model,year) -> None:\n",
    "        \"\"\"\n",
    "        make:制造商,\n",
    "        year:车的年份,\n",
    "        model:车的品牌\n",
    "        \"\"\"\n",
    "        self.make=make\n",
    "        self.year=year\n",
    "        self.model=model\n",
    "        self.read_odometer_reading=0\n",
    "        pass\n",
    "    def get_describate_name(self):\n",
    "        long_name=str(self.year) + ' ' + self.make + ' ' +self.model\n",
    "        return long_name.title()\n",
    "    def read_odometer(self):\n",
    "        print(\"this car has\" + str(self.read_odometer_reading) + \"miles on it \")\n",
    "    def update_odometer(self,mileage):\n",
    "        if mileage>=self.read_odometer_reading:\n",
    "            self.read_odometer_reading=mileage\n",
    "        else:\n",
    "            print(\"you can't roll back and odometer \")\n",
    "    def increacement_miles(self,miles):\n",
    "        self.read_odometer_reading+=miles\n",
    "class Battery():\n",
    "    def __init__(self,battery_szie=0) -> None:\n",
    "        \"\"\" \n",
    "        初始化电瓶属性\n",
    "        \"\"\"\n",
    "        self.battery_size=battery_szie\n",
    "  \n",
    "        pass\n",
    "    def describe_battery(self,new_value):\n",
    "        \"\"\"描述电瓶电量\"\"\"\n",
    "        self.battery_size=new_value\n",
    "        print(\"this  car has a \" + str(self.battery_size) + \"-kWH battery\")\n",
    "    def get_range(self):\n",
    "        \"\"\"打印输出电瓶车输出续航里程\"\"\"\n",
    "        if self.battery_size<=70:\n",
    "            range=240\n",
    "        elif self.battery_size>=85:\n",
    "            range=270\n",
    "        message=\"this car can go approximately \" + str(range)\n",
    "        message+=\"miles on a full charge\"\n",
    "        print(message)\n",
    "\n",
    "class ElectricCar(Car):\n",
    "    \"\"\"\n",
    "    电动汽车独特之处\n",
    "    \"\"\"\n",
    "    def __init__(self, make, model, year) -> None:\n",
    "\n",
    "        super().__init__(make, model, year)\n",
    "        \n",
    "        self.battery=Battery()\n",
    "    \n",
    "\n",
    "mycar=ElectricCar('telsa','model y3 ','2006')\n",
    "mycar.battery.describe_battery(250)\n",
    "\n",
    "print(mycar.get_describate_name())\n",
    "print(mycar.battery.describe_battery(250))\n",
    "print(mycar.battery.get_range())\n",
    "\n",
    "\n",
    "\n"
   ]
  },
  {
   "cell_type": "code",
   "execution_count": 41,
   "metadata": {},
   "outputs": [
    {
     "name": "stdout",
     "output_type": "stream",
     "text": [
      "False\n"
     ]
    }
   ],
   "source": [
    "filename='pi_digits.txt'\n",
    "with open(filename) as file_object:\n",
    "    lines=file_object.readlines()\n",
    "pi_string=''\n",
    "for line in lines:\n",
    "    pi_string+=line.rstrip()\n",
    "birthday=input()\n",
    "if birthday in pi_string:\n",
    "    print(\"ok\")\n",
    "else:\n",
    "    print(\"False\")\n"
   ]
  },
  {
   "cell_type": "code",
   "execution_count": 42,
   "metadata": {},
   "outputs": [
    {
     "name": "stdout",
     "output_type": "stream",
     "text": [
      "False\n"
     ]
    }
   ],
   "source": [
    "try:\n",
    "    print(5/0)\n",
    "except ZeroDivisionError:\n",
    "    print(\"False\")"
   ]
  },
  {
   "cell_type": "code",
   "execution_count": 9,
   "metadata": {},
   "outputs": [
    {
     "data": {
      "text/plain": [
       "Card(rank='J', suit='spades')"
      ]
     },
     "execution_count": 9,
     "metadata": {},
     "output_type": "execute_result"
    }
   ],
   "source": [
    "import collections\n",
    "Card = collections.namedtuple('Card', ['rank', 'suit'])\n",
    "class FrenchDeck:\n",
    "    ranks = [str(n) for n in range(2, 11)] + list('JQKA')\n",
    "    suits = 'spades diamonds clubs hearts'.split()\n",
    "    def __init__(self):\n",
    "        self._cards = [Card(rank, suit) for suit in self.suits\n",
    "        for rank in self.ranks]\n",
    "    def __len__(self):\n",
    "        return len(self._cards)\n",
    "    def __getitem__(self, position):\n",
    "        return self._cards[position]\n",
    "bearcard=Card('J','diamonds')\n",
    "deck=FrenchDeck()\n",
    "deck[9]"
   ]
  },
  {
   "cell_type": "code",
   "execution_count": 19,
   "metadata": {},
   "outputs": [
    {
     "data": {
      "text/plain": [
       "9.433981132056603"
      ]
     },
     "execution_count": 19,
     "metadata": {},
     "output_type": "execute_result"
    }
   ],
   "source": [
    "from math import hypot\n",
    "\n",
    "class Vector():\n",
    "    \"\"\"向量简易计算器\"\"\"\n",
    "    def __init__(self,x=0,y=0) -> None:\n",
    "        self.x=x\n",
    "        self.y=y\n",
    "    def __repr__(self) -> str:\n",
    "        return 'Vector(%r,%r)' % (self.x,self.y)\n",
    "    def __abs__(self):\n",
    "        return hypot(self.x,self.y)\n",
    "    def __bool__(self):\n",
    "        return bool(abs(self))\n",
    "    def __add__(self,other):\n",
    "        x=self.x+other.x\n",
    "        y=self.y+other.y\n",
    "        return Vector(x,y)\n",
    "    def __mul__(self,sclar):\n",
    "        return Vector(self.x*sclar,self.y*sclar)\n",
    "\n",
    "v1=Vector(1,2)\n",
    "v2=Vector(8,5)\n",
    "abs(v2)\n",
    "\n",
    "    "
   ]
  },
  {
   "cell_type": "code",
   "execution_count": 21,
   "metadata": {},
   "outputs": [
    {
     "data": {
      "text/plain": [
       "[36, 162, 163, 165, 8364, 164]"
      ]
     },
     "execution_count": 21,
     "metadata": {},
     "output_type": "execute_result"
    }
   ],
   "source": [
    "symbols = '$¢£¥€¤'\n",
    "codes = [ord(symbol) for symbol in symbols]\n",
    "codes"
   ]
  },
  {
   "cell_type": "code",
   "execution_count": null,
   "metadata": {},
   "outputs": [],
   "source": [
    "import bisect\n",
    "import sys\n",
    "HAYSTACK = [1, 4, 5, 6, 8, 12, 15, 20, 21, 23, 23, 26, 29, 30]\n",
    "NEEDLES = [0, 1, 2, 5, 8, 10, 22, 23, 29, 30, 31]"
   ]
  },
  {
   "cell_type": "code",
   "execution_count": 2,
   "metadata": {},
   "outputs": [
    {
     "data": {
      "text/plain": [
       "['F', 'A', 'C', 'C', 'B', 'A', 'A']"
      ]
     },
     "execution_count": 2,
     "metadata": {},
     "output_type": "execute_result"
    }
   ],
   "source": [
    "import bisect\n",
    "def grade(score, breakpoints=[60, 70, 80, 90], grades='FDCBA'):\n",
    "    i = bisect.bisect(breakpoints, score)\n",
    "    return grades[i]\n",
    "[grade(score) for score in [33, 99, 77, 70, 89, 90, 100]]\n"
   ]
  },
  {
   "cell_type": "code",
   "execution_count": null,
   "metadata": {},
   "outputs": [],
   "source": []
  }
 ],
 "metadata": {
  "kernelspec": {
   "display_name": "Python 3",
   "language": "python",
   "name": "python3"
  },
  "language_info": {
   "codemirror_mode": {
    "name": "ipython",
    "version": 3
   },
   "file_extension": ".py",
   "mimetype": "text/x-python",
   "name": "python",
   "nbconvert_exporter": "python",
   "pygments_lexer": "ipython3",
   "version": "3.11.2"
  },
  "orig_nbformat": 4
 },
 "nbformat": 4,
 "nbformat_minor": 2
}
